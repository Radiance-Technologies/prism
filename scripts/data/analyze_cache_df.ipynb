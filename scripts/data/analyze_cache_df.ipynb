{
 "cells": [
  {
   "cell_type": "code",
   "execution_count": null,
   "metadata": {},
   "outputs": [],
   "source": [
    "import pandas as pd\n",
    "import matplotlib.pyplot as plt\n",
    "import seaborn as sns\n",
    "df = pd.read_csv(\"../../base_df.csv\")"
   ]
  },
  {
   "cell_type": "code",
   "execution_count": null,
   "metadata": {},
   "outputs": [],
   "source": [
    "# Stats\n",
    "# Count projects\n",
    "print(\"Number of projects:\", len(df[[\"project name\"]].drop_duplicates()))\n",
    "# List of projects\n",
    "print(\"Project names:\\n\", \"\\n\".join([i[0] for i in df[[\"project name\"]].drop_duplicates().values]), sep=\"\")\n",
    "# Count unique commits\n",
    "print(\"Number of unique commits:\", len(df[[\"project name\", \"commit hash\"]].drop_duplicates()))\n",
    "# Count cache tuples\n",
    "print(\"Number of unique cache tuples:\", len(df[[\"project name\", \"commit hash\", \"coq version\"]].drop_duplicates()))\n",
    "# Count executed proofs\n",
    "df1 = df[[\"project name\", \"commit hash\", \"coq version\", \"filename\", \"command index\", \"proof index\"]]\n",
    "df1_proofs_only = df1[df1[\"proof index\"] != 0]\n",
    "print(\"Number of executed proofs:\", len(df1_proofs_only.drop_duplicates()))\n",
    "# Count successfully executed sentences\n",
    "print(\"Number of successfully executed sentences:\", len(df))\n",
    "# Count compiled files\n",
    "df3 = df[[\"project name\", \"commit hash\", \"coq version\", \"filename\"]]\n",
    "print(\"Number of compiled files:\", len(df3.drop_duplicates()))\n",
    "# Get max open goals and histogram of open goals\n",
    "df[\"total goal count\"] = df[\"foreground goal count\"] + df[\"background goal count\"] + df[\"abandoned goal count\"] + df[\"shelved goal count\"]\n",
    "print(\"Maximum total open goal count:\", df[\"total goal count\"].max())\n",
    "# DF with proof sentences only\n",
    "df[\"total hypothesis count\"] = df[\"foreground hypothesis count\"] + df[\"background hypothesis count\"] + df[\"abandoned hypothesis count\"] + df[\"shelved hypothesis count\"]"
   ]
  },
  {
   "cell_type": "code",
   "execution_count": null,
   "metadata": {},
   "outputs": [],
   "source": [
    "# Histogram\n",
    "df_proofs_only = df[df[\"proof index\"] != 0]\n",
    "fig = plt.figure()\n",
    "sns.histplot(data=df_proofs_only[df_proofs_only[\"total goal count\"] > 0], x=\"total goal count\", stat=\"proportion\", discrete=True)\n",
    "ax = fig.axes[0]\n",
    "ax.set_xticks(range(0, 20, 2))\n",
    "ax.set_xlabel(\"Number of open goals\")\n",
    "# ax.set_ylabel(\"Proportion of occurrences\")\n",
    "# Get histogram of open hypotheses\n",
    "fig = plt.figure()\n",
    "sns.histplot(data=df_proofs_only[df_proofs_only[\"total hypothesis count\"] > 0], x=\"total hypothesis count\", stat=\"proportion\", discrete=False, binrange=[0, 200], binwidth=10)\n",
    "ax = fig.axes[0]\n",
    "# ax.set_xticks(range(0, 201, 25))\n",
    "# ax.set_xlim(-25, 225)\n",
    "ax.set_xlabel(\"Number of hypotheses\")\n",
    "# ax.set_ylabel(\"Number of occurrences\")"
   ]
  },
  {
   "cell_type": "code",
   "execution_count": null,
   "metadata": {},
   "outputs": [],
   "source": [
    "print(\"Sentence counts. The count column here also shows the number of cache tuples per project.\")\n",
    "df.value_counts(subset=[\"project name\", \"commit hash\"]).groupby(\"project name\").describe()\n",
    "# The below histgorams look like crap. Not enough unique bins. Better to use the table above\n",
    "# project_names = list(df[\"project name\"].unique())\n",
    "# for project_name in project_names:\n",
    "#     plt.figure()\n",
    "#     df[df[\"project name\"] == project_name].value_counts(subset=[\"project name\", \"commit hash\", \"coq version\"]).groupby(\"project name\").hist()\n",
    "# TODO: Box and whisker plot, maybe"
   ]
  },
  {
   "cell_type": "code",
   "execution_count": null,
   "metadata": {},
   "outputs": [],
   "source": [
    "print(\"Ignore: Box and whisker plots for sentence counts over commits and coq versions\")\n",
    "# boxplot_series = df.value_counts(subset=[\"project name\", \"commit hash\"])\n",
    "# boxplot_crosstab = pd.crosstab(df[\"commit hash\"], df[\"project name\"])\n",
    "# print(boxplot_crosstab.melt())\n",
    "# sns.boxplot(data=boxplot_crosstab.melt(), x=\"project name\", y=\"value\", showfliers=False)\n",
    "# plt.xticks(rotation=45)\n",
    "# plt.ylabel(\"Sentence count\")"
   ]
  },
  {
   "cell_type": "code",
   "execution_count": null,
   "metadata": {},
   "outputs": [],
   "source": [
    "print(\"Proof counts. Projects coq-http and coq-simple-io don't have any proofs in the successfully extracted commits.\")\n",
    "df.loc[df[\"proof index\"] > 0].loc[df[\"proof step index\"] == 0].value_counts(subset=[\"project name\", \"commit hash\", \"coq version\"]).groupby(\"project name\").describe()"
   ]
  },
  {
   "cell_type": "code",
   "execution_count": null,
   "metadata": {},
   "outputs": [],
   "source": [
    "print(\"Files per project.\")\n",
    "df[[\"project name\", \"commit hash\", \"filename\"]].drop_duplicates().value_counts(subset=[\"project name\", \"commit hash\"]).groupby(\"project name\").describe()"
   ]
  },
  {
   "cell_type": "code",
   "execution_count": null,
   "metadata": {},
   "outputs": [],
   "source": [
    "print(\"Command type occurrences.\")\n",
    "barplot_series = df.value_counts(subset=\"command type\")\n",
    "print(barplot_series)\n",
    "series_largest = barplot_series.nlargest(15)\n",
    "sns.barplot(y=series_largest.index, x=series_largest.values)\n",
    "plt.xlabel(\"Counts\")\n",
    "plt.ylabel(\"Sentence Type\")"
   ]
  },
  {
   "cell_type": "code",
   "execution_count": null,
   "metadata": {},
   "outputs": [],
   "source": [
    "print(\"Ignore: Command type occurrences grouped by project\")\n",
    "# If we really want to show all this, save it as a CSV file. The output of describe() is itself a dataframe.\n",
    "# df.value_counts(subset=[\"project name\", \"commit hash\", \"coq version\", \"command type\"]).groupby([\"project name\", \"command type\"]).describe()"
   ]
  },
  {
   "cell_type": "code",
   "execution_count": null,
   "metadata": {},
   "outputs": [],
   "source": [
    "print(\"Command type occurrences, proof sentences only\")\n",
    "barplot_series = df_proofs_only.value_counts(subset=\"command type\")\n",
    "print(barplot_series)\n",
    "sns.barplot(y=barplot_series.index, x=barplot_series.values)\n",
    "plt.xlabel(\"Counts\")\n",
    "plt.ylabel(\"Sentence Type\")"
   ]
  },
  {
   "cell_type": "code",
   "execution_count": null,
   "metadata": {},
   "outputs": [],
   "source": [
    "print(\"Command type occurrences, proof sentences only, group by project.\")\n",
    "df_proofs_only.value_counts(subset=[\"project name\", \"commit hash\", \"coq version\", \"command type\"]).groupby([\"project name\", \"command type\"]).describe()"
   ]
  },
  {
   "cell_type": "code",
   "execution_count": null,
   "metadata": {},
   "outputs": [],
   "source": [
    "print(\"Command type occurrences, non-proof sentences only\")\n",
    "barplot_series = df[df[\"proof index\"] == 0].value_counts(subset=\"command type\")\n",
    "print(barplot_series)\n",
    "series_largest = barplot_series.nlargest(15)\n",
    "sns.barplot(y=series_largest.index, x=series_largest.values)\n",
    "plt.xlabel(\"Counts\")\n",
    "plt.ylabel(\"Sentence Type\")"
   ]
  },
  {
   "cell_type": "code",
   "execution_count": null,
   "metadata": {},
   "outputs": [],
   "source": [
    "# Goal Histogram bonanza\n",
    "# project_names = list(df[\"project name\"].unique())\n",
    "# for project_name in project_names:\n",
    "#     fig = plt.figure()\n",
    "#     sns.histplot(data=df_proofs_only[df_proofs_only[\"total goal count\"] > 0].loc[df_proofs_only[\"project name\"] == project_name], x=\"total goal count\", stat=\"proportion\", discrete=True)\n",
    "#     ax = fig.axes[0]\n",
    "#     ax.set_xticks(range(0, 20, 2))\n",
    "#     ax.set_xlabel(\"Number of open goals\")\n",
    "#     ax.set_title(project_name)"
   ]
  },
  {
   "cell_type": "code",
   "execution_count": null,
   "metadata": {},
   "outputs": [],
   "source": [
    "# Hypothesis Histogram bonanza\n",
    "# project_names = list(df[\"project name\"].unique())\n",
    "# for project_name in project_names:\n",
    "#     fig = plt.figure()\n",
    "#     sns.histplot(data=df_proofs_only[df_proofs_only[\"total hypothesis count\"] > 0].loc[df_proofs_only[\"project name\"] == project_name], x=\"total hypothesis count\", stat=\"proportion\", discrete=True, binrange=[0, 200])\n",
    "#     ax = fig.axes[0]\n",
    "#     ax.set_xlabel(\"Number of open hypotheses\")\n",
    "#     ax.set_title(project_name)"
   ]
  },
  {
   "cell_type": "code",
   "execution_count": null,
   "metadata": {},
   "outputs": [],
   "source": [
    "print(\"Sum over maximum unique proofs per project\")\n",
    "per_project_max_unique_proofs = df_proofs_only[[\"project name\", \"commit hash\", \"coq version\", \"command index\", \"proof index\"]].drop_duplicates().value_counts(subset=[\"project name\", \"commit hash\", \"coq version\"])\n",
    "# print(per_project_max_unique_proofs)\n",
    "print(per_project_max_unique_proofs.groupby(\"project name\").max().sum())"
   ]
  }
 ],
 "metadata": {},
 "nbformat": 4,
 "nbformat_minor": 2
}
